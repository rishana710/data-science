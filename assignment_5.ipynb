{
 "cells": [
  {
   "cell_type": "markdown",
   "id": "dc72c5f0",
   "metadata": {},
   "source": [
    "# chech wheather a number is an armstrong number"
   ]
  },
  {
   "cell_type": "code",
   "execution_count": 1,
   "id": "0d7f4116",
   "metadata": {},
   "outputs": [
    {
     "name": "stdout",
     "output_type": "stream",
     "text": [
      "153 is an Armstrong number\n"
     ]
    }
   ],
   "source": [
    "def is_armstrong(num):\n",
    "    power = len(str(num))\n",
    "    total = sum(int(digit) ** power for digit in str(num))\n",
    "    return num == total\n",
    "n = int(input(\"Enter a number: \"))\n",
    "if is_armstrong(n):\n",
    "    print(n, \"is an Armstrong number\")\n",
    "else:\n",
    "    print(n, \"is NOT an Armstrong number\")"
   ]
  },
  {
   "cell_type": "markdown",
   "id": "229db170",
   "metadata": {},
   "source": [
    "# write a fuction to count how many times a character appears in a string"
   ]
  },
  {
   "cell_type": "code",
   "execution_count": 2,
   "id": "4fddf38e",
   "metadata": {},
   "outputs": [
    {
     "name": "stdout",
     "output_type": "stream",
     "text": [
      "2\n"
     ]
    }
   ],
   "source": [
    "def count_char(string, char):\n",
    "    return string.count(char)\n",
    "print(count_char(\"programming\", \"m\")) \n",
    "             "
   ]
  },
  {
   "cell_type": "markdown",
   "id": "50d869e6",
   "metadata": {},
   "source": [
    "# find all prime number between two given numbers"
   ]
  },
  {
   "cell_type": "code",
   "execution_count": 3,
   "id": "87f394bd",
   "metadata": {},
   "outputs": [
    {
     "name": "stdout",
     "output_type": "stream",
     "text": [
      "[11, 13, 17, 19, 23, 29]\n"
     ]
    }
   ],
   "source": [
    "def primes_between(start, end):\n",
    "    primes = []\n",
    "    for num in range(start, end+1):\n",
    "        if num > 1:\n",
    "            for i in range(2, int(num**0.5)+1):\n",
    "                if num % i == 0:\n",
    "                    break\n",
    "            else:\n",
    "                primes.append(num)\n",
    "    return primes\n",
    "print(primes_between(10, 30)) "
   ]
  },
  {
   "cell_type": "markdown",
   "id": "0384af66",
   "metadata": {},
   "source": [
    "# function that returns the gcd of two numbers"
   ]
  },
  {
   "cell_type": "code",
   "execution_count": 4,
   "id": "6aade84e",
   "metadata": {},
   "outputs": [
    {
     "name": "stdout",
     "output_type": "stream",
     "text": [
      "6\n"
     ]
    }
   ],
   "source": [
    "def gcd(a, b):\n",
    "    while b:\n",
    "        a, b = b, a % b\n",
    "    return a\n",
    "print(gcd(48, 18))"
   ]
  },
  {
   "cell_type": "markdown",
   "id": "1a7d5693",
   "metadata": {},
   "source": [
    "# check if a number is perfect number"
   ]
  },
  {
   "cell_type": "code",
   "execution_count": 5,
   "id": "c5c55fde",
   "metadata": {},
   "outputs": [
    {
     "name": "stdout",
     "output_type": "stream",
     "text": [
      "True\n"
     ]
    }
   ],
   "source": [
    "def is_perfect(num):\n",
    "    factors = [i for i in range(1, num) if num % i == 0]\n",
    "    return sum(factors) == num\n",
    "\n",
    "print(is_perfect(28))  "
   ]
  },
  {
   "cell_type": "markdown",
   "id": "eff9c0cd",
   "metadata": {},
   "source": [
    "# find the secound largest number in a list\n"
   ]
  },
  {
   "cell_type": "code",
   "execution_count": 7,
   "id": "178a09f9",
   "metadata": {},
   "outputs": [
    {
     "name": "stdout",
     "output_type": "stream",
     "text": [
      "45\n"
     ]
    }
   ],
   "source": [
    "def second_largest(lst):\n",
    "    unique = list(set(lst)) \n",
    "    unique.sort()\n",
    "    return unique[-2] if len(unique) >= 2 else None\n",
    "print(second_largest([10, 20, 4, 45, 99]))  "
   ]
  },
  {
   "cell_type": "markdown",
   "id": "72bf2c51",
   "metadata": {},
   "source": [
    "# reverse the words in a sentance"
   ]
  },
  {
   "cell_type": "code",
   "execution_count": 9,
   "id": "fb674631",
   "metadata": {},
   "outputs": [
    {
     "name": "stdout",
     "output_type": "stream",
     "text": [
      "rishana is name my\n"
     ]
    }
   ],
   "source": [
    "def reverse_words(sentence):\n",
    "    words = sentence.split()\n",
    "    return \" \".join(words[::-1])\n",
    "\n",
    "\n",
    "print(reverse_words(\"my name is rishana\"))  "
   ]
  },
  {
   "cell_type": "markdown",
   "id": "9373eec7",
   "metadata": {},
   "source": [
    "# print the frequency of each digit in a number "
   ]
  },
  {
   "cell_type": "code",
   "execution_count": 10,
   "id": "3c0c1f92",
   "metadata": {},
   "outputs": [
    {
     "name": "stdout",
     "output_type": "stream",
     "text": [
      "{'1': 2, '2': 2, '3': 2}\n"
     ]
    }
   ],
   "source": [
    "def digit_frequency(num):\n",
    "    freq = {}\n",
    "    for digit in str(num):\n",
    "        freq[digit] = freq.get(digit, 0) + 1\n",
    "    return freq\n",
    "print(digit_frequency(112233)) "
   ]
  },
  {
   "cell_type": "markdown",
   "id": "2ccb6895",
   "metadata": {},
   "source": [
    "# print a star pattern"
   ]
  },
  {
   "cell_type": "code",
   "execution_count": 11,
   "id": "f80bcace",
   "metadata": {},
   "outputs": [
    {
     "name": "stdout",
     "output_type": "stream",
     "text": [
      "*\n",
      "**\n",
      "***\n",
      "****\n",
      "*****\n"
     ]
    }
   ],
   "source": [
    "def star_pattern(n):\n",
    "    for i in range(1, n+1):\n",
    "        print(\"*\" * i)\n",
    "star_pattern(5)"
   ]
  },
  {
   "cell_type": "markdown",
   "id": "9c3ffcce",
   "metadata": {},
   "source": [
    "# function that returns the binary representation of a number"
   ]
  },
  {
   "cell_type": "code",
   "execution_count": 12,
   "id": "d5541ece",
   "metadata": {},
   "outputs": [
    {
     "name": "stdout",
     "output_type": "stream",
     "text": [
      "1010\n"
     ]
    }
   ],
   "source": [
    "def to_binary(n):\n",
    "    return bin(n).replace(\"0b\", \"\")\n",
    "print(to_binary(10))  "
   ]
  },
  {
   "cell_type": "markdown",
   "id": "6af20d05",
   "metadata": {},
   "source": [
    "# function that returns the lcm of two numbers"
   ]
  },
  {
   "cell_type": "code",
   "execution_count": 14,
   "id": "50f04927",
   "metadata": {},
   "outputs": [
    {
     "name": "stdout",
     "output_type": "stream",
     "text": [
      "36\n"
     ]
    }
   ],
   "source": [
    "def lcm(a, b):\n",
    "    def gcd(x, y):\n",
    "        while y:\n",
    "            x, y = y, x % y\n",
    "        return x\n",
    "    return abs(a * b) // gcd(a, b)\n",
    "print(lcm(12, 18)) "
   ]
  },
  {
   "cell_type": "code",
   "execution_count": null,
   "id": "9e1e1212",
   "metadata": {},
   "outputs": [],
   "source": []
  },
  {
   "cell_type": "code",
   "execution_count": null,
   "id": "fcb9d56c",
   "metadata": {},
   "outputs": [],
   "source": []
  }
 ],
 "metadata": {
  "kernelspec": {
   "display_name": "Python 3",
   "language": "python",
   "name": "python3"
  },
  "language_info": {
   "codemirror_mode": {
    "name": "ipython",
    "version": 3
   },
   "file_extension": ".py",
   "mimetype": "text/x-python",
   "name": "python",
   "nbconvert_exporter": "python",
   "pygments_lexer": "ipython3",
   "version": "3.11.9"
  }
 },
 "nbformat": 4,
 "nbformat_minor": 5
}
