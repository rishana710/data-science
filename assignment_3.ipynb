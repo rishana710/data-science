{
 "cells": [
  {
   "cell_type": "code",
   "execution_count": null,
   "id": "f6cc22b7",
   "metadata": {},
   "outputs": [],
   "source": []
  },
  {
   "cell_type": "code",
   "execution_count": null,
   "id": "b5984483",
   "metadata": {},
   "outputs": [],
   "source": []
  },
  {
   "cell_type": "markdown",
   "id": "679e05a8",
   "metadata": {},
   "source": [
    "# WRITE THE PROGRAM TO FIND THE LIST CONSISTS OF AT LEAST ONE COMMON ELEMENT"
   ]
  },
  {
   "cell_type": "code",
   "execution_count": 5,
   "id": "c9c2c1fc",
   "metadata": {},
   "outputs": [
    {
     "name": "stdout",
     "output_type": "stream",
     "text": [
      "list have duplicates\n"
     ]
    }
   ],
   "source": [
    "list=[1,2,3,4,5,6,7,]\n",
    "list_1=[1,2,3,4,5,8,9,10]\n",
    "if set(list)&set(list_1):\n",
    "    print(\"list have duplicates\")\n",
    "else:\n",
    "    print(\"list don't duplicates\")    "
   ]
  },
  {
   "cell_type": "markdown",
   "id": "bf159cba",
   "metadata": {},
   "source": [
    "# REMOVE ALL EVEN NUMBERS FROME A LIST"
   ]
  },
  {
   "cell_type": "code",
   "execution_count": 5,
   "id": "e8dd3512",
   "metadata": {},
   "outputs": [
    {
     "name": "stdout",
     "output_type": "stream",
     "text": [
      "[1, 3, 5, 7, 9]\n"
     ]
    }
   ],
   "source": [
    "number=[1,2,3,4,5,6,7,8,9,10]\n",
    "odd_number= [num for num in number if num%2!=0]\n",
    "print(odd_number)\n",
    "\n"
   ]
  },
  {
   "cell_type": "code",
   "execution_count": null,
   "id": "8c943df5",
   "metadata": {},
   "outputs": [],
   "source": []
  },
  {
   "cell_type": "markdown",
   "id": "78e666bd",
   "metadata": {},
   "source": [
    "# GIVE A LIST OF STRING , RETURN A LIST WITH ONLY THOSE STRING THAT HAVE MORE THAN 3 CHARECTER"
   ]
  },
  {
   "cell_type": "code",
   "execution_count": 6,
   "id": "8d2591e4",
   "metadata": {},
   "outputs": [
    {
     "name": "stdout",
     "output_type": "stream",
     "text": [
      "['lion', 'tiger', 'apple']\n"
     ]
    }
   ],
   "source": [
    "words=[\"cat\",\"lion\",\"sun\",\"tiger\",\"bat\",\"apple\"]\n",
    "result=[word for word in words if len(word)>3]\n",
    "print(result)"
   ]
  },
  {
   "cell_type": "markdown",
   "id": "6a661284",
   "metadata": {},
   "source": [
    "# write a function that replaces all negative numbers in a list with zero using a for loop if condition"
   ]
  },
  {
   "cell_type": "code",
   "execution_count": 1,
   "id": "0d6aa4be",
   "metadata": {},
   "outputs": [
    {
     "name": "stdout",
     "output_type": "stream",
     "text": [
      "[10, 0, 3, 0, 12, 0]\n"
     ]
    }
   ],
   "source": [
    "def replace_negatives(lst):\n",
    "    for i in range(len(lst)):\n",
    "        if lst[i] < 0:\n",
    "            lst[i] = 0\n",
    "    return lst\n",
    "numbers = [10, -5, 3, -8, 12, -1]\n",
    "print(replace_negatives(numbers))  \n",
    "\n",
    "\n"
   ]
  },
  {
   "cell_type": "markdown",
   "id": "b1cef28f",
   "metadata": {},
   "source": [
    "# creat a list of squares of all the odd number from a given list"
   ]
  },
  {
   "cell_type": "code",
   "execution_count": 2,
   "id": "7677c951",
   "metadata": {},
   "outputs": [
    {
     "name": "stdout",
     "output_type": "stream",
     "text": [
      "[1, 9, 25, 49]\n"
     ]
    }
   ],
   "source": [
    "def odd_squares(lst):\n",
    "    result = []\n",
    "    for num in lst:\n",
    "        if num % 2 != 0: \n",
    "            result.append(num ** 2)\n",
    "    return result\n",
    "numbers = [1, 2, 3, 4, 5, 6, 7]\n",
    "print(odd_squares(numbers))  \n"
   ]
  },
  {
   "cell_type": "code",
   "execution_count": null,
   "id": "a6fb293a",
   "metadata": {},
   "outputs": [],
   "source": []
  }
 ],
 "metadata": {
  "kernelspec": {
   "display_name": "Python 3",
   "language": "python",
   "name": "python3"
  },
  "language_info": {
   "codemirror_mode": {
    "name": "ipython",
    "version": 3
   },
   "file_extension": ".py",
   "mimetype": "text/x-python",
   "name": "python",
   "nbconvert_exporter": "python",
   "pygments_lexer": "ipython3",
   "version": "3.11.9"
  }
 },
 "nbformat": 4,
 "nbformat_minor": 5
}
