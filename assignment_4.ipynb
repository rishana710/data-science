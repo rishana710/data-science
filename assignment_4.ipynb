{
 "cells": [
  {
   "cell_type": "code",
   "execution_count": null,
   "id": "9a9faaa7",
   "metadata": {},
   "outputs": [],
   "source": []
  },
  {
   "cell_type": "markdown",
   "id": "46d69053",
   "metadata": {},
   "source": [
    "# you are given a list that contains integers.you need to print  the elements of the list with a space  between them"
   ]
  },
  {
   "cell_type": "code",
   "execution_count": 2,
   "id": "cdf11af3",
   "metadata": {},
   "outputs": [
    {
     "name": "stdout",
     "output_type": "stream",
     "text": [
      "54 43 2 1 5 "
     ]
    }
   ],
   "source": [
    "arr=[54,43,2,1,5]\n",
    "for i in arr:\n",
    "    print(i,end = \" \")"
   ]
  },
  {
   "cell_type": "markdown",
   "id": "95d03c5f",
   "metadata": {},
   "source": [
    "# you are given a list that contains integers .you need to return the sum of list "
   ]
  },
  {
   "cell_type": "code",
   "execution_count": 6,
   "id": "51e1afda",
   "metadata": {},
   "outputs": [
    {
     "name": "stdout",
     "output_type": "stream",
     "text": [
      "105\n"
     ]
    }
   ],
   "source": [
    "arr=[54,43,2,1,5]\n",
    "total_sum=0\n",
    "for i in arr:\n",
    "    total_sum=i+total_sum\n",
    "print(total_sum)\n"
   ]
  },
  {
   "cell_type": "markdown",
   "id": "10e1bfbe",
   "metadata": {},
   "source": []
  },
  {
   "cell_type": "markdown",
   "id": "a4076121",
   "metadata": {},
   "source": [
    "# you are given three inputs a,b,c .you need to create a list and append a,b,c to  the list and then return that list "
   ]
  },
  {
   "cell_type": "markdown",
   "id": "b2d5fb85",
   "metadata": {},
   "source": []
  },
  {
   "cell_type": "code",
   "execution_count": 8,
   "id": "11d98f57",
   "metadata": {},
   "outputs": [
    {
     "name": "stdout",
     "output_type": "stream",
     "text": [
      "[1, 2, 3]\n"
     ]
    }
   ],
   "source": [
    "a=1\n",
    "b=2\n",
    "c=3\n",
    "result=[]\n",
    "result.append(a)\n",
    "result.append(b)\n",
    "result.append(c)\n",
    "print(result)\n",
    "\n"
   ]
  },
  {
   "cell_type": "markdown",
   "id": "9d9c87b8",
   "metadata": {},
   "source": [
    "# you are given a list arr that contains integer . you need to return the average of the non -negatuve integers"
   ]
  },
  {
   "cell_type": "code",
   "execution_count": null,
   "id": "3df91f90",
   "metadata": {},
   "outputs": [
    {
     "name": "stdout",
     "output_type": "stream",
     "text": [
      "40\n",
      "10.0\n"
     ]
    }
   ],
   "source": [
    "arr=[-12,8,-7,6,12,-9,14]\n",
    "non_negative=[]\n",
    "for i in arr:\n",
    "    if i>=0:\n",
    "        non_negative.append(i)\n",
    "        total=0\n",
    "        for sum in non_negative:\n",
    "            total=sum+total\n",
    "average=total/len(non_negative)\n",
    "print(average)\n",
    "\n",
    "\n",
    "\n",
    "\n",
    "\n",
    "\n"
   ]
  },
  {
   "cell_type": "markdown",
   "id": "075d969d",
   "metadata": {},
   "source": [
    "# given a number n,check if the number is perfect or not. a number is said to be perfect if sum of all its factors excluding the number itself is equal to the number"
   ]
  },
  {
   "cell_type": "markdown",
   "id": "967fbd47",
   "metadata": {},
   "source": []
  },
  {
   "cell_type": "code",
   "execution_count": 13,
   "id": "4d3a4800",
   "metadata": {},
   "outputs": [
    {
     "name": "stdout",
     "output_type": "stream",
     "text": [
      "not a perfect number\n",
      "not a perfect number\n",
      "is perfect number\n"
     ]
    }
   ],
   "source": [
    "n=int(input())\n",
    "sum_of_factor=0\n",
    "for i  in range (1,n):\n",
    "    if n%i==0:\n",
    "        sum_of_factor=i+sum_of_factor\n",
    "        if sum_of_factor==n:\n",
    "            print(\"is perfect number\")\n",
    "        else:\n",
    "                print( \"not a perfect number\")\n"
   ]
  },
  {
   "cell_type": "markdown",
   "id": "e2f3e6ca",
   "metadata": {},
   "source": []
  },
  {
   "cell_type": "markdown",
   "id": "f94d3b8e",
   "metadata": {},
   "source": [
    "# creat a nested dictionary and access its element "
   ]
  },
  {
   "cell_type": "code",
   "execution_count": 16,
   "id": "0d8cac63",
   "metadata": {},
   "outputs": [
    {
     "name": "stdout",
     "output_type": "stream",
     "text": [
      "85\n",
      "21\n",
      "{'maths': 85, 'science': 55, 'englis': 90}\n",
      "85\n",
      "55\n"
     ]
    }
   ],
   "source": [
    "student={\"name\":\"rishana\",\"age\":21,\"marks\":{\"maths\":85,\"science\":55,\"englis\":90}}\n",
    "print(student[\"marks\"][\"maths\"])\n",
    "print(student [\"age\"])\n",
    "print(student[\"marks\"])\n",
    "print(student[\"marks\"][\"maths\"])\n",
    "print(student[\"marks\"][\"science\"])\n"
   ]
  },
  {
   "cell_type": "markdown",
   "id": "120ea269",
   "metadata": {},
   "source": []
  },
  {
   "cell_type": "markdown",
   "id": "f91a4599",
   "metadata": {},
   "source": []
  },
  {
   "cell_type": "markdown",
   "id": "18951d2f",
   "metadata": {},
   "source": [
    "# functions"
   ]
  },
  {
   "cell_type": "markdown",
   "id": "f2bfd803",
   "metadata": {},
   "source": [
    "# write a python program  to find the maximum from the given three numbers"
   ]
  },
  {
   "cell_type": "code",
   "execution_count": 20,
   "id": "836e9369",
   "metadata": {},
   "outputs": [
    {
     "name": "stdout",
     "output_type": "stream",
     "text": [
      "the maximum number is: 3\n"
     ]
    }
   ],
   "source": [
    "def find_max(a,b,c):\n",
    "\n",
    "    if (a>=b) and (a>=c):\n",
    "        return a\n",
    "    elif (b>=a)  and (b>=c):\n",
    "        print(b, \"is greater\")\n",
    "        return b\n",
    "    else:\n",
    "        return c \n",
    "a=int(input())\n",
    "b=int(input())\n",
    "c=int(input())\n",
    "result=find_max (a,b,c)   \n",
    "print(\"the maximum number is:\",result)\n",
    "        "
   ]
  },
  {
   "cell_type": "markdown",
   "id": "8bd35c2b",
   "metadata": {},
   "source": [
    "# prime number"
   ]
  },
  {
   "cell_type": "code",
   "execution_count": 1,
   "id": "2c177c61",
   "metadata": {},
   "outputs": [
    {
     "name": "stdout",
     "output_type": "stream",
     "text": [
      "2 is a prime\n"
     ]
    }
   ],
   "source": [
    "def is_prime(num):\n",
    "    if num>=2:\n",
    "        for i in range(2,num):\n",
    "            if num %i==0:\n",
    "                return False\n",
    "        return True\n",
    "    else:\n",
    "        return True\n",
    "    \n",
    "n=int(input())\n",
    "if is_prime(n):\n",
    "    print(n,\"is a prime\")\n",
    "else:\n",
    "    print(\"is not a prime\")\n"
   ]
  },
  {
   "cell_type": "markdown",
   "id": "9a362d87",
   "metadata": {},
   "source": [
    "# factorial"
   ]
  },
  {
   "cell_type": "code",
   "execution_count": 3,
   "id": "e2b922f1",
   "metadata": {},
   "outputs": [
    {
     "name": "stdout",
     "output_type": "stream",
     "text": [
      "factorial of 6 is 720\n"
     ]
    }
   ],
   "source": [
    "def factorial(n):\n",
    "    result=1\n",
    "    for i in range(1,n+1):\n",
    "        result=result*i\n",
    "    return result \n",
    "num=int(input(\"enter a number\"))\n",
    "print(\"factorial of\",num,\"is\",factorial(num))"
   ]
  },
  {
   "cell_type": "markdown",
   "id": "196072ac",
   "metadata": {},
   "source": []
  },
  {
   "cell_type": "markdown",
   "id": "592f7b81",
   "metadata": {},
   "source": [
    "# write a python program to calculate the sum of all numbers present in a list"
   ]
  },
  {
   "cell_type": "markdown",
   "id": "9c8724dc",
   "metadata": {},
   "source": []
  },
  {
   "cell_type": "code",
   "execution_count": null,
   "id": "b7476cea",
   "metadata": {},
   "outputs": [
    {
     "name": "stdout",
     "output_type": "stream",
     "text": [
      "sum of all number in the list is 75\n"
     ]
    }
   ],
   "source": [
    "\n",
    "\n",
    "\n",
    "\n",
    "number=[5,10,15,20,25]\n",
    "total=0\n",
    "for i in number:\n",
    "    total=total+i\n",
    "print(\"sum of all number in the list is\",total)"
   ]
  },
  {
   "cell_type": "markdown",
   "id": "b57ba819",
   "metadata": {},
   "source": [
    "numbers[]"
   ]
  },
  {
   "cell_type": "markdown",
   "id": "c672f1a9",
   "metadata": {},
   "source": []
  },
  {
   "cell_type": "markdown",
   "id": "05de4887",
   "metadata": {},
   "source": [
    "# write a python programe to calculate the multiplication of all the numbers present in a list\n"
   ]
  },
  {
   "cell_type": "markdown",
   "id": "104f1a2f",
   "metadata": {},
   "source": []
  },
  {
   "cell_type": "code",
   "execution_count": 8,
   "id": "bafee993",
   "metadata": {},
   "outputs": [
    {
     "name": "stdout",
     "output_type": "stream",
     "text": [
      "Multiplication of all numbers in the list is: 120\n"
     ]
    }
   ],
   "source": [
    "def multiply_list(numbers):\n",
    "    result = 1\n",
    "    for num in numbers:\n",
    "        result *= num\n",
    "    return result\n",
    "\n",
    "# Example list\n",
    "my_list = [2, 3, 4, 5]\n",
    "\n",
    "# Function call\n",
    "product = multiply_list(my_list)\n",
    "print(\"Multiplication of all numbers in the list is:\", product)"
   ]
  },
  {
   "cell_type": "markdown",
   "id": "bf9f1167",
   "metadata": {},
   "source": [
    "\n",
    "\n",
    "# write a python program that takes a string as an input and calculates the number of upper case and lower case letters present  in the string"
   ]
  },
  {
   "cell_type": "code",
   "execution_count": 10,
   "id": "8ed6a1c2",
   "metadata": {},
   "outputs": [
    {
     "name": "stdout",
     "output_type": "stream",
     "text": [
      "Number of uppercase letters: 0\n",
      "Number of lowercase letters: 5\n"
     ]
    }
   ],
   "source": [
    "def count_upper_lower(s):\n",
    "    upper_count = 0\n",
    "    lower_count = 0\n",
    "\n",
    "    for char in s:\n",
    "        if char.isupper():\n",
    "            upper_count += 1\n",
    "        elif char.islower():\n",
    "            lower_count += 1\n",
    "\n",
    "    print(\"Number of uppercase letters:\", upper_count)\n",
    "    print(\"Number of lowercase letters:\", lower_count)\n",
    "\n",
    "\n",
    "# Input from the user\n",
    "string_input = input(\"Enter a string: \")\n",
    "count_upper_lower(string_input)"
   ]
  },
  {
   "cell_type": "markdown",
   "id": "6b1a48ee",
   "metadata": {},
   "source": [
    "# function to check if a string is a palindrome\n"
   ]
  },
  {
   "cell_type": "code",
   "execution_count": 13,
   "id": "1cc7329f",
   "metadata": {},
   "outputs": [
    {
     "name": "stdout",
     "output_type": "stream",
     "text": [
      "The string is a palindrome.\n"
     ]
    }
   ],
   "source": [
    "def is_palindrome(s):\n",
    "    s = s.lower()            \n",
    "    reversed_s = s[::-1]  \n",
    "    if s == reversed_s:\n",
    "        return True\n",
    "    else:\n",
    "        return False\n",
    "\n",
    "\n",
    "\n",
    "string_input = input(\"Enter a string: \")\n",
    "\n",
    "if is_palindrome(string_input):\n",
    "    print(\"The string is a palindrome.\")\n",
    "else:\n",
    "    print(\"The string is not a palindrome.\")"
   ]
  },
  {
   "cell_type": "markdown",
   "id": "107ed5ec",
   "metadata": {},
   "source": [
    "# write a fuction to print all factors of a number "
   ]
  },
  {
   "cell_type": "code",
   "execution_count": 14,
   "id": "cbae6bd0",
   "metadata": {},
   "outputs": [
    {
     "name": "stdout",
     "output_type": "stream",
     "text": [
      "Factors of 12 are:\n",
      "1\n",
      "2\n",
      "3\n",
      "4\n",
      "6\n",
      "12\n"
     ]
    }
   ],
   "source": [
    "def print_factors(n):\n",
    "    print(f\"Factors of {n} are:\")\n",
    "    for i in range(1, n + 1):\n",
    "        if n % i == 0:\n",
    "            print(i)\n",
    "\n",
    "\n",
    "print_factors(12)"
   ]
  },
  {
   "cell_type": "markdown",
   "id": "f03f8bb2",
   "metadata": {},
   "source": []
  },
  {
   "cell_type": "markdown",
   "id": "935ef120",
   "metadata": {},
   "source": []
  },
  {
   "cell_type": "markdown",
   "id": "b0d35bc2",
   "metadata": {},
   "source": []
  },
  {
   "cell_type": "code",
   "execution_count": null,
   "id": "7544871e",
   "metadata": {},
   "outputs": [],
   "source": []
  },
  {
   "cell_type": "code",
   "execution_count": null,
   "id": "3dca45b6",
   "metadata": {},
   "outputs": [],
   "source": []
  },
  {
   "cell_type": "code",
   "execution_count": null,
   "id": "f077ac90",
   "metadata": {},
   "outputs": [],
   "source": []
  },
  {
   "cell_type": "code",
   "execution_count": null,
   "id": "11c1e5f4",
   "metadata": {},
   "outputs": [
    {
     "ename": "SyntaxError",
     "evalue": "invalid syntax (3757365479.py, line 1)",
     "output_type": "error",
     "traceback": [
      "  \u001b[36mCell\u001b[39m\u001b[36m \u001b[39m\u001b[32mIn[13]\u001b[39m\u001b[32m, line 1\u001b[39m\n\u001b[31m    \u001b[39m\u001b[31mresult=find_max(num1,num2,num3)   1\u001b[39m\n                                      ^\n\u001b[31mSyntaxError\u001b[39m\u001b[31m:\u001b[39m invalid syntax\n"
     ]
    }
   ],
   "source": []
  },
  {
   "cell_type": "code",
   "execution_count": null,
   "id": "805b126f",
   "metadata": {},
   "outputs": [],
   "source": []
  },
  {
   "cell_type": "markdown",
   "id": "0b89fcc5",
   "metadata": {},
   "source": []
  },
  {
   "cell_type": "code",
   "execution_count": null,
   "id": "e2f8a4f9",
   "metadata": {},
   "outputs": [],
   "source": []
  },
  {
   "cell_type": "code",
   "execution_count": null,
   "id": "153e3d30",
   "metadata": {},
   "outputs": [],
   "source": []
  },
  {
   "cell_type": "code",
   "execution_count": null,
   "id": "b0fe70bc",
   "metadata": {},
   "outputs": [],
   "source": []
  },
  {
   "cell_type": "code",
   "execution_count": null,
   "id": "66d473c9",
   "metadata": {},
   "outputs": [],
   "source": []
  }
 ],
 "metadata": {
  "kernelspec": {
   "display_name": "Python 3",
   "language": "python",
   "name": "python3"
  },
  "language_info": {
   "codemirror_mode": {
    "name": "ipython",
    "version": 3
   },
   "file_extension": ".py",
   "mimetype": "text/x-python",
   "name": "python",
   "nbconvert_exporter": "python",
   "pygments_lexer": "ipython3",
   "version": "3.11.9"
  }
 },
 "nbformat": 4,
 "nbformat_minor": 5
}
