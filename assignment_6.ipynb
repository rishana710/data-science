{
 "cells": [
  {
   "cell_type": "markdown",
   "id": "c854015a",
   "metadata": {},
   "source": [
    "# creat a class rectangle with attributes length and width write methords to"
   ]
  },
  {
   "cell_type": "code",
   "execution_count": 5,
   "id": "ef363bff",
   "metadata": {},
   "outputs": [
    {
     "name": "stdout",
     "output_type": "stream",
     "text": [
      "Length: 10\n",
      "Width: 5\n",
      "Area: 50\n",
      "Perimeter: 30\n"
     ]
    }
   ],
   "source": [
    "class Rectangle:\n",
    "    def __init__(self, length, width):\n",
    "        self.length = length\n",
    "        self.width = width\n",
    "    def area(self):\n",
    "        return self.length * self.width\n",
    "    def perimeter(self):\n",
    "        return 2 * (self.length + self.width)\n",
    "    def display(self):\n",
    "        print(f\"Length: {self.length}\")\n",
    "        print(f\"Width: {self.width}\")\n",
    "        print(f\"Area: {self.area()}\")\n",
    "        print(f\"Perimeter: {self.perimeter()}\")\n",
    "rect = Rectangle(10, 5)\n",
    "rect.display()\n"
   ]
  },
  {
   "cell_type": "markdown",
   "id": "86923159",
   "metadata": {},
   "source": [
    "# creat a class calculator with methords add sub div and multiply .calculate area and perimeter "
   ]
  },
  {
   "cell_type": "code",
   "execution_count": null,
   "id": "86613da0",
   "metadata": {},
   "outputs": [],
   "source": []
  },
  {
   "cell_type": "code",
   "execution_count": 2,
   "id": "e7ac29b8",
   "metadata": {},
   "outputs": [
    {
     "name": "stdout",
     "output_type": "stream",
     "text": [
      "Addition: 15\n",
      "Subtraction: 5\n",
      "Multiplication: 50\n",
      "Division: 2.0\n",
      "Area of rectangle: 50\n",
      "Perimeter of rectangle: 30\n"
     ]
    }
   ],
   "source": [
    "class Calculator:\n",
    "    def add(self, a, b):\n",
    "        return a + b\n",
    "    def subtract(self, a, b):\n",
    "        return a - b\n",
    "    def multiply(self, a, b):\n",
    "        return a * b\n",
    "    def divide(self, a, b):\n",
    "        if b != 0:\n",
    "            return a / b\n",
    "        else:\n",
    "            return \"Error! Division by zero.\"\n",
    "\n",
    "class Rectangle:\n",
    "    def __init__(self, length, width):\n",
    "        self.length = length\n",
    "        self.width = width\n",
    "    \n",
    "    def area(self):\n",
    "        return self.length * self.width\n",
    "    \n",
    "    def perimeter(self):\n",
    "        return 2 * (self.length + self.width)\n",
    "calc = Calculator()\n",
    "print(\"Addition:\", calc.add(10, 5))\n",
    "print(\"Subtraction:\", calc.subtract(10, 5))\n",
    "print(\"Multiplication:\", calc.multiply(10, 5))\n",
    "print(\"Division:\", calc.divide(10, 5))\n",
    "\n",
    "rect = Rectangle(10, 5)\n",
    "print(\"Area of rectangle:\", rect.area())\n",
    "print(\"Perimeter of rectangle:\", rect.perimeter())\n"
   ]
  },
  {
   "cell_type": "markdown",
   "id": "918aa9e7",
   "metadata": {},
   "source": [
    "#  create a class circle with attributes radius write methords of circumstance "
   ]
  },
  {
   "cell_type": "code",
   "execution_count": 7,
   "id": "69e8d4ff",
   "metadata": {},
   "outputs": [
    {
     "name": "stdout",
     "output_type": "stream",
     "text": [
      "Circumference of circle: 31.4159\n"
     ]
    }
   ],
   "source": [
    "class Circle:\n",
    "    def __init__(self, radius):\n",
    "        self.radius = radius   \n",
    "\n",
    "    def circumference(self):\n",
    "        return 2 * 3.14159 * self.radius  \n",
    "c1 = Circle(5)  \n",
    "print(\"Circumference of circle:\", c1.circumference())\n"
   ]
  },
  {
   "cell_type": "markdown",
   "id": "beae860c",
   "metadata": {},
   "source": [
    "# creat a class employee with attributes names and salary add a method  display to show details"
   ]
  },
  {
   "cell_type": "code",
   "execution_count": 1,
   "id": "4f5907b3",
   "metadata": {},
   "outputs": [
    {
     "name": "stdout",
     "output_type": "stream",
     "text": [
      "Employee Name: Ravi\n",
      "Salary: 40000\n"
     ]
    }
   ],
   "source": [
    "class Employee:\n",
    "    def __init__(self, name, salary):\n",
    "        self.name = name      \n",
    "        self.salary = salary \n",
    "\n",
    "    def display(self):\n",
    "        print(f\"Employee Name: {self.name}\")\n",
    "        print(f\"Salary: {self.salary}\")\n",
    "emp1 = Employee(\"Ravi\", 40000)\n",
    "emp1.display()\n"
   ]
  },
  {
   "cell_type": "markdown",
   "id": "88196e86",
   "metadata": {},
   "source": [
    "# creat a class banck account with attributes account_number and balance  add methord ,deposite withdraw check_balance "
   ]
  },
  {
   "cell_type": "code",
   "execution_count": 2,
   "id": "6d1c5bd6",
   "metadata": {},
   "outputs": [
    {
     "name": "stdout",
     "output_type": "stream",
     "text": [
      "Account Number: 101, Balance: 500\n",
      "Deposited: 200. New Balance: 700\n",
      "Withdrawn: 100. Remaining Balance: 600\n",
      "Account Number: 101, Balance: 600\n"
     ]
    }
   ],
   "source": [
    "class BankAccount:\n",
    "    def __init__(self, account_number, balance=0):\n",
    "        self.account_number = account_number\n",
    "        self.balance = balance\n",
    "    def deposit(self, amount):\n",
    "        if amount > 0:\n",
    "            self.balance += amount\n",
    "            print(f\"Deposited: {amount}. New Balance: {self.balance}\")\n",
    "        else:\n",
    "            print(\"Deposit amount must be positive!\")\n",
    "    def withdraw(self, amount):\n",
    "        if amount > 0:\n",
    "            if amount <= self.balance:\n",
    "                self.balance -= amount\n",
    "                print(f\"Withdrawn: {amount}. Remaining Balance: {self.balance}\")\n",
    "            else:\n",
    "                print(\"Insufficient balance!\")\n",
    "        else:\n",
    "            print(\"Withdrawal amount must be positive!\")\n",
    "\n",
    "    def check_balance(self):\n",
    "        print(f\"Account Number: {self.account_number}, Balance: {self.balance}\")\n",
    "\n",
    "acc1 = BankAccount(101, 500)   \n",
    "acc1.check_balance()\n",
    "\n",
    "acc1.deposit(200)              \n",
    "acc1.withdraw(100)             \n",
    "acc1.check_balance()        \n"
   ]
  },
  {
   "cell_type": "markdown",
   "id": "35c752f8",
   "metadata": {},
   "source": []
  },
  {
   "cell_type": "markdown",
   "id": "22a2c4e5",
   "metadata": {},
   "source": [
    "# creat a class temperature with methords :celsius_fahrebheit ,fahrenheit_to_celsius\n"
   ]
  },
  {
   "cell_type": "code",
   "execution_count": 3,
   "id": "d7ec6d52",
   "metadata": {},
   "outputs": [
    {
     "name": "stdout",
     "output_type": "stream",
     "text": [
      "25 °C = 77.0 °F\n",
      "77 °F = 25.0 °C\n"
     ]
    }
   ],
   "source": [
    "\n",
    "class Temperature:\n",
    "    \n",
    "    def celsius_to_fahrenheit(self, celsius):\n",
    "        return (celsius * 9/5) + 32\n",
    "    def fahrenheit_to_celsius(self, fahrenheit):\n",
    "        return (fahrenheit - 32) * 5/9\n",
    "\n",
    "temp = Temperature()\n",
    "\n",
    "\n",
    "celsius = 25\n",
    "print(celsius, \"°C =\", temp.celsius_to_fahrenheit(celsius), \"°F\")\n",
    "\n",
    "\n",
    "fahrenheit = 77\n",
    "print(fahrenheit, \"°F =\", temp.fahrenheit_to_celsius(fahrenheit), \"°C\")\n"
   ]
  },
  {
   "cell_type": "markdown",
   "id": "0f29f33c",
   "metadata": {},
   "source": [
    "# shopping cart creat a class cart that allows add_item remove_item view_cart"
   ]
  },
  {
   "cell_type": "code",
   "execution_count": null,
   "id": "4846cb0d",
   "metadata": {},
   "outputs": [],
   "source": [
    "class Cart:\n",
    "    def __init__(self):\n",
    "        self.items = []   \n",
    "\n",
    "    def add_item(self, item_name, price):\n",
    "        self.items.append({\"name\": item_name, \"price\": price})\n",
    "        print(f\"{item_name} added to cart.\")\n",
    "\n",
    "    def remove_item(self, item_name):\n",
    "        for item in self.items:\n",
    "            if item[\"name\"] == item_name:\n",
    "                self.items.remove(item)\n",
    "                print(f\"{item_name} removed from cart.\")\n",
    "                return\n",
    "        print(f\"{item_name} not found in cart.\")\n",
    "\n",
    "    def view_cart(self):\n",
    "        if not self.items:\n",
    "            print(\"Your cart is empty.\")\n",
    "        else:\n",
    "            print(\"Items in your cart:\")\n",
    "            total = 0\n",
    "            for item in self.items:\n",
    "                print(f\"- {item['name']} : ₹{item['price']}\")\n",
    "                total += item['price']\n",
    "            print(f\"Total: ₹{total}\")\n",
    "\n",
    "\n",
    "\n",
    "cart = Cart()\n",
    "cart.add_item(\"Apple\", 50)\n",
    "cart.add_item(\"Milk\", 30)\n",
    "cart.view_cart()\n",
    "cart.remove_item(\"Apple\")\n",
    "cart.view_ca_\n"
   ]
  }
 ],
 "metadata": {
  "kernelspec": {
   "display_name": "Python 3",
   "language": "python",
   "name": "python3"
  },
  "language_info": {
   "codemirror_mode": {
    "name": "ipython",
    "version": 3
   },
   "file_extension": ".py",
   "mimetype": "text/x-python",
   "name": "python",
   "nbconvert_exporter": "python",
   "pygments_lexer": "ipython3",
   "version": "3.11.9"
  }
 },
 "nbformat": 4,
 "nbformat_minor": 5
}
