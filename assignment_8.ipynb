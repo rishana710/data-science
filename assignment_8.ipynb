{
 "cells": [
  {
   "cell_type": "markdown",
   "id": "fd77b25f",
   "metadata": {},
   "source": [
    "# 1 Create 1D,2D,3D array . check it’s shape and dimension\n"
   ]
  },
  {
   "cell_type": "code",
   "execution_count": 1,
   "id": "78191df0",
   "metadata": {},
   "outputs": [],
   "source": [
    "import numpy as np "
   ]
  },
  {
   "cell_type": "code",
   "execution_count": 5,
   "id": "f322d9fc",
   "metadata": {},
   "outputs": [
    {
     "name": "stdout",
     "output_type": "stream",
     "text": [
      "(4,) 1\n",
      "(2, 3) 2\n",
      "(3, 2, 3) 3\n"
     ]
    }
   ],
   "source": [
    "a=np.array([2,8,7,4])\n",
    "b=np.array([[1,4,3],[4,8,6]])\n",
    "c=np.array([[[1,9,3],[4,45,6]],[[53,2,13],[6,5,4]],[[7,12,9],[9,10,7]]])\n",
    "print(a.shape,a.ndim)\n",
    "print(b.shape,b.ndim)\n",
    "print(c.shape,c.ndim)"
   ]
  },
  {
   "cell_type": "markdown",
   "id": "70523d9e",
   "metadata": {},
   "source": [
    "# 2. Create a NumPy array of numbers from 10 to 50 (inclusive) with a step of 5."
   ]
  },
  {
   "cell_type": "markdown",
   "id": "6a6ab939",
   "metadata": {},
   "source": []
  },
  {
   "cell_type": "code",
   "execution_count": 6,
   "id": "a7b3ee3e",
   "metadata": {},
   "outputs": [
    {
     "data": {
      "text/plain": [
       "array([10, 15, 20, 25, 30, 35, 40, 45, 50])"
      ]
     },
     "execution_count": 6,
     "metadata": {},
     "output_type": "execute_result"
    }
   ],
   "source": [
    "np.arange(10,51,5)"
   ]
  },
  {
   "cell_type": "code",
   "execution_count": null,
   "id": "83d5c372",
   "metadata": {},
   "outputs": [],
   "source": []
  },
  {
   "cell_type": "markdown",
   "id": "36958b66",
   "metadata": {},
   "source": [
    "# 3.Generate a 3×3 matrix of random integers between 1 and 20."
   ]
  },
  {
   "cell_type": "code",
   "execution_count": 13,
   "id": "fd641456",
   "metadata": {},
   "outputs": [
    {
     "name": "stdout",
     "output_type": "stream",
     "text": [
      "[[19 12 18]\n",
      " [ 5 15  9]\n",
      " [19 20 17]]\n"
     ]
    }
   ],
   "source": [
    "matrix=np.random.randint(1,21,(3,3))\n",
    "print(matrix)"
   ]
  },
  {
   "cell_type": "markdown",
   "id": "8b790f9c",
   "metadata": {},
   "source": []
  },
  {
   "cell_type": "markdown",
   "id": "fc97c8db",
   "metadata": {},
   "source": [
    "# 4.Form the array:"
   ]
  },
  {
   "cell_type": "markdown",
   "id": "8caede1c",
   "metadata": {},
   "source": [
    "# a.Extract the second row."
   ]
  },
  {
   "cell_type": "code",
   "execution_count": 18,
   "id": "b2c79bc4",
   "metadata": {},
   "outputs": [
    {
     "name": "stdout",
     "output_type": "stream",
     "text": [
      "[4 5 6]\n"
     ]
    }
   ],
   "source": [
    "arr=np.array([[1,2,3],[4,5,6],[7,8,9]])\n",
    "print(arr[1])"
   ]
  },
  {
   "cell_type": "markdown",
   "id": "c0ef1f5d",
   "metadata": {},
   "source": [
    "# b.Extract the first column."
   ]
  },
  {
   "cell_type": "code",
   "execution_count": 22,
   "id": "606b4867",
   "metadata": {},
   "outputs": [
    {
     "name": "stdout",
     "output_type": "stream",
     "text": [
      "[1 4 7]\n"
     ]
    }
   ],
   "source": [
    "print(arr[:,0])"
   ]
  },
  {
   "cell_type": "markdown",
   "id": "a7989e8e",
   "metadata": {},
   "source": [
    "# c.Extract the subarray containing rows 1–2 and columns 2–4c"
   ]
  },
  {
   "cell_type": "code",
   "execution_count": 23,
   "id": "06bdc29c",
   "metadata": {},
   "outputs": [
    {
     "name": "stdout",
     "output_type": "stream",
     "text": [
      "[[5 6]\n",
      " [8 9]]\n"
     ]
    }
   ],
   "source": [
    "print(arr[1:3,1:3])"
   ]
  },
  {
   "cell_type": "markdown",
   "id": "53151208",
   "metadata": {},
   "source": [
    "# d.Replace all even numbers in arr with -1\n"
   ]
  },
  {
   "cell_type": "markdown",
   "id": "116e9202",
   "metadata": {},
   "source": []
  },
  {
   "cell_type": "code",
   "execution_count": 24,
   "id": "737eb11b",
   "metadata": {},
   "outputs": [
    {
     "name": "stdout",
     "output_type": "stream",
     "text": [
      "[[ 1 -1  3]\n",
      " [-1  5 -1]\n",
      " [ 7 -1  9]]\n"
     ]
    }
   ],
   "source": [
    "arr[arr%2==0]=-1\n",
    "print(arr)"
   ]
  },
  {
   "cell_type": "markdown",
   "id": "159ea840",
   "metadata": {},
   "source": [
    "# 5 given:\n",
    "a = np.array([1, 2, 3])\n",
    "b = np.array([4, 5, 6])\n",
    "\n",
    "Perform element-wise addition, subtraction, multiplication, and division.\n",
    "Create a 1D array of numbers from 1 to 12. Reshape it into:  3×4 matrix"
   ]
  },
  {
   "cell_type": "code",
   "execution_count": 26,
   "id": "f83dce0b",
   "metadata": {},
   "outputs": [
    {
     "name": "stdout",
     "output_type": "stream",
     "text": [
      "Addition: [5 7 9]\n",
      "Subtraction: [-3 -3 -3]\n",
      "Multiplication: [ 4 10 18]\n",
      "Division: [0.25 0.4  0.5 ]\n"
     ]
    }
   ],
   "source": [
    "\n",
    "\n",
    "a = np.array([1, 2, 3])\n",
    "b = np.array([4, 5, 6])\n",
    "print(\"Addition:\", a + b)\n",
    "print(\"Subtraction:\", a - b)\n",
    "print(\"Multiplication:\", a * b)\n",
    "print(\"Division:\", a / b)"
   ]
  },
  {
   "cell_type": "markdown",
   "id": "e76046cf",
   "metadata": {},
   "source": [
    "# creat 1D  array of numbers from 1 to 12 .reshape it into 3*4 matrix"
   ]
  },
  {
   "cell_type": "code",
   "execution_count": 36,
   "id": "34015dc3",
   "metadata": {},
   "outputs": [
    {
     "data": {
      "text/plain": [
       "array([[ 1, 22, 33, 54],\n",
       "       [45, 26, 57,  8],\n",
       "       [95, 80, 91, 92]])"
      ]
     },
     "execution_count": 36,
     "metadata": {},
     "output_type": "execute_result"
    }
   ],
   "source": [
    "m=np.array([1,22,33,54,45,26,57,8,95,80,91,92])\n",
    "m.reshape(3,4)"
   ]
  },
  {
   "cell_type": "code",
   "execution_count": null,
   "id": "cdac020d",
   "metadata": {},
   "outputs": [],
   "source": []
  }
 ],
 "metadata": {
  "kernelspec": {
   "display_name": "Python 3",
   "language": "python",
   "name": "python3"
  },
  "language_info": {
   "codemirror_mode": {
    "name": "ipython",
    "version": 3
   },
   "file_extension": ".py",
   "mimetype": "text/x-python",
   "name": "python",
   "nbconvert_exporter": "python",
   "pygments_lexer": "ipython3",
   "version": "3.11.9"
  }
 },
 "nbformat": 4,
 "nbformat_minor": 5
}
