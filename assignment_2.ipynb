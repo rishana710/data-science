{
 "cells": [
  {
   "cell_type": "markdown",
   "id": "83a115bb",
   "metadata": {},
   "source": [
    "# FIND EVEN NUMBER IN PYTHON USING FOR LOOP"
   ]
  },
  {
   "cell_type": "code",
   "execution_count": 9,
   "id": "f5a7f11c",
   "metadata": {},
   "outputs": [
    {
     "name": "stdout",
     "output_type": "stream",
     "text": [
      "2\n",
      "4\n",
      "6\n",
      "8\n",
      "10\n"
     ]
    }
   ],
   "source": [
    "for i in range(2,11,2):\n",
    "    print(i)"
   ]
  },
  {
   "cell_type": "markdown",
   "id": "7599d12d",
   "metadata": {},
   "source": [
    "# SUM OF FIRST NATURAl NUMBER"
   ]
  },
  {
   "cell_type": "code",
   "execution_count": 13,
   "id": "5ab1e20a",
   "metadata": {},
   "outputs": [
    {
     "name": "stdout",
     "output_type": "stream",
     "text": [
      "15\n"
     ]
    }
   ],
   "source": [
    "a=int(input())\n",
    "n=0\n",
    "for i in range(1,a+1):\n",
    "    n=i+n\n",
    "print(n)"
   ]
  },
  {
   "cell_type": "markdown",
   "id": "77fb65ee",
   "metadata": {},
   "source": [
    "# PRINT EACH CHARACTER IN STRING"
   ]
  },
  {
   "cell_type": "code",
   "execution_count": 1,
   "id": "0b19ae45",
   "metadata": {},
   "outputs": [
    {
     "name": "stdout",
     "output_type": "stream",
     "text": [
      "r\n",
      "i\n",
      "s\n",
      "h\n",
      "a\n",
      "n\n",
      "a\n"
     ]
    }
   ],
   "source": [
    "name=\"rishana\"\n",
    "for i in name:\n",
    "    print(i)"
   ]
  },
  {
   "cell_type": "markdown",
   "id": "e7a8d067",
   "metadata": {},
   "source": [
    "# MULTIPLICATION TABLE"
   ]
  },
  {
   "cell_type": "code",
   "execution_count": 8,
   "id": "903ae1ee",
   "metadata": {},
   "outputs": [
    {
     "name": "stdout",
     "output_type": "stream",
     "text": [
      "5 x 1 = 5\n",
      "5 x 2 = 10\n",
      "5 x 3 = 15\n",
      "5 x 4 = 20\n",
      "5 x 5 = 25\n",
      "5 x 6 = 30\n",
      "5 x 7 = 35\n",
      "5 x 8 = 40\n",
      "5 x 9 = 45\n",
      "5 x 10 = 50\n"
     ]
    }
   ],
   "source": [
    "number=int(input())\n",
    "for i in range(1,11):\n",
    "    print(number,\"x\",i,\"=\",number*i)"
   ]
  },
  {
   "cell_type": "markdown",
   "id": "c2d008f0",
   "metadata": {},
   "source": [
    "# CHECK PRIME OR NOT"
   ]
  },
  {
   "cell_type": "code",
   "execution_count": 38,
   "id": "9d66bce7",
   "metadata": {},
   "outputs": [
    {
     "name": "stdout",
     "output_type": "stream",
     "text": [
      "8  is not a  prime numbr\n"
     ]
    }
   ],
   "source": [
    "n=int(input())\n",
    "if n<=1:\n",
    "    print(n,'not prime')\n",
    "\n",
    "else:\n",
    "    is_prime=False\n",
    "    for i in range(2, n):\n",
    "        if n%i==0:\n",
    "            is_prime=True\n",
    "            break\n",
    "if is_prime:\n",
    "    print(n,' is not a  prime numbr')\n",
    "else:\n",
    "    print(n,\" is   a prime\")\n",
    "            \n",
    "        "
   ]
  },
  {
   "cell_type": "markdown",
   "id": "b817a9f1",
   "metadata": {},
   "source": [
    "# FACTORIAL OF A NUMBER"
   ]
  },
  {
   "cell_type": "code",
   "execution_count": 37,
   "id": "51fe2d61",
   "metadata": {},
   "outputs": [
    {
     "name": "stdout",
     "output_type": "stream",
     "text": [
      "5040\n"
     ]
    }
   ],
   "source": [
    "a=int(input())\n",
    "factorial=1\n",
    "for i in range(1,a+1):\n",
    "     factorial=i*factorial\n",
    "print(factorial)"
   ]
  },
  {
   "cell_type": "markdown",
   "id": "83b1b3d8",
   "metadata": {},
   "source": [
    "# PRINT FIRST 10 ITEMS OF FEBONACCI SERIES"
   ]
  },
  {
   "cell_type": "markdown",
   "id": "6aa39cc9",
   "metadata": {},
   "source": []
  },
  {
   "cell_type": "code",
   "execution_count": 1,
   "id": "cf5c45b3",
   "metadata": {},
   "outputs": [
    {
     "name": "stdout",
     "output_type": "stream",
     "text": [
      "0 1 1 2 3 5 8 13 21 34 "
     ]
    }
   ],
   "source": [
    "a,b=0,1\n",
    "for i in range(10):\n",
    "    print(a,end=\" \")\n",
    "    a,b=b, a+b"
   ]
  },
  {
   "cell_type": "markdown",
   "id": "e87b224b",
   "metadata": {},
   "source": [
    "# WRITE PROGRAM TO PRINT ANY TWO PATTERNS"
   ]
  },
  {
   "cell_type": "code",
   "execution_count": 1,
   "id": "be43657d",
   "metadata": {},
   "outputs": [
    {
     "name": "stdout",
     "output_type": "stream",
     "text": [
      "1 \n",
      "1 2 \n",
      "1 2 3 \n",
      "1 2 3 4 \n",
      "1 2 3 4 5 \n"
     ]
    }
   ],
   "source": [
    "row=5\n",
    "for i in range(1,row+1):\n",
    "    for j in range (1,i+1):\n",
    "        print(j,end=\" \")\n",
    "    print()"
   ]
  },
  {
   "cell_type": "code",
   "execution_count": null,
   "id": "8e2e2fe4",
   "metadata": {},
   "outputs": [],
   "source": []
  },
  {
   "cell_type": "code",
   "execution_count": null,
   "id": "9104740b",
   "metadata": {},
   "outputs": [],
   "source": []
  },
  {
   "cell_type": "code",
   "execution_count": null,
   "id": "16388419",
   "metadata": {},
   "outputs": [],
   "source": []
  },
  {
   "cell_type": "code",
   "execution_count": null,
   "id": "4b432b3c",
   "metadata": {},
   "outputs": [],
   "source": []
  },
  {
   "cell_type": "code",
   "execution_count": null,
   "id": "e5c5ce6f",
   "metadata": {},
   "outputs": [],
   "source": []
  },
  {
   "cell_type": "code",
   "execution_count": null,
   "id": "8f786be3",
   "metadata": {},
   "outputs": [],
   "source": []
  },
  {
   "cell_type": "code",
   "execution_count": null,
   "id": "45ac1f91",
   "metadata": {},
   "outputs": [],
   "source": []
  }
 ],
 "metadata": {
  "kernelspec": {
   "display_name": "Python 3",
   "language": "python",
   "name": "python3"
  },
  "language_info": {
   "codemirror_mode": {
    "name": "ipython",
    "version": 3
   },
   "file_extension": ".py",
   "mimetype": "text/x-python",
   "name": "python",
   "nbconvert_exporter": "python",
   "pygments_lexer": "ipython3",
   "version": "3.11.9"
  }
 },
 "nbformat": 4,
 "nbformat_minor": 5
}
