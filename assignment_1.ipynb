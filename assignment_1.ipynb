{
 "cells": [
  {
   "cell_type": "markdown",
   "id": "c392021f",
   "metadata": {},
   "source": [
    "# TAKE VALUES OF LENGTH AND BREADTH OF A RECTANGLE FROME USER AND CHECHK IF IT IS SQUARE OR NOT"
   ]
  },
  {
   "cell_type": "code",
   "execution_count": 2,
   "id": "406f9182",
   "metadata": {},
   "outputs": [
    {
     "name": "stdout",
     "output_type": "stream",
     "text": [
      "square\n"
     ]
    }
   ],
   "source": [
    "length=int(input())\n",
    "breadth=int(input())\n",
    "if length==breadth:\n",
    "    print(\"square\")\n",
    "else:\n",
    "    print(\"rectangle\")"
   ]
  },
  {
   "cell_type": "markdown",
   "id": "ee524789",
   "metadata": {},
   "source": [
    "# A COMPANY DECIDED TO GIVE BONUS OF 5% TO EMPLOYEE IF HIS/HER YEAR OF SERVICE IS  MORE THAN 5 YEARS. ASK USER FOR THEIR SALERY AND YEAR OF SERVICE AND PRINT THE NET BONUS AMOUNT"
   ]
  },
  {
   "cell_type": "code",
   "execution_count": null,
   "id": "c49f20c3",
   "metadata": {},
   "outputs": [],
   "source": [
    "salary=int(input('enter the salary amount'))\n",
    "experience=int(input('enter the experience'))\n",
    "if experience>=5:\n",
    "    bonus= int(salary * 0.05)\n",
    "    print(bonus + salary)\n",
    "else:\n",
    "    print('no bonus is allowed')"
   ]
  },
  {
   "cell_type": "code",
   "execution_count": null,
   "id": "dfb36e7f",
   "metadata": {},
   "outputs": [],
   "source": []
  },
  {
   "cell_type": "markdown",
   "id": "3414f529",
   "metadata": {},
   "source": [
    "# TAKE A USER INPUT AND CHECK EVEN OR NOT"
   ]
  },
  {
   "cell_type": "markdown",
   "id": "2862b1fc",
   "metadata": {},
   "source": []
  },
  {
   "cell_type": "code",
   "execution_count": null,
   "id": "3d56d9f1",
   "metadata": {},
   "outputs": [],
   "source": [
    "number=int(input('enter the number'))\n",
    "if number%2==0:\n",
    "    print('even number')\n",
    "else:\n",
    "    print('odd number')"
   ]
  },
  {
   "cell_type": "code",
   "execution_count": null,
   "id": "59f45cbe",
   "metadata": {},
   "outputs": [],
   "source": []
  },
  {
   "cell_type": "markdown",
   "id": "de0dc95d",
   "metadata": {},
   "source": [
    "# TAKE TWO INT VALUES FROM USER AND PRINT GREASTEST AMONG THEM "
   ]
  },
  {
   "cell_type": "code",
   "execution_count": null,
   "id": "3f1610fd",
   "metadata": {},
   "outputs": [],
   "source": [
    "a=int(input())\n",
    "b=int(input())\n",
    "if a>b:\n",
    "         print('a is greatest')\n",
    "elif a<b:\n",
    "   print('b is grater')\n",
    "else:\n",
    "    print('a is equal to b')"
   ]
  },
  {
   "cell_type": "code",
   "execution_count": null,
   "id": "8536cb84",
   "metadata": {},
   "outputs": [],
   "source": []
  },
  {
   "cell_type": "markdown",
   "id": "c71ae73c",
   "metadata": {},
   "source": [
    "# A SCHOOL HAS FOLLOWING RULES\n",
    "# a ABOVE 25-F\n",
    "# b 25 TO 45-E\n",
    "# C 45 TO 50-D\n",
    "# d 50 TO 60-C\n",
    "# e 60 TO 80-B\n",
    "# f ABOVE 80 -A"
   ]
  },
  {
   "cell_type": "code",
   "execution_count": null,
   "id": "4abcc9c3",
   "metadata": {},
   "outputs": [],
   "source": [
    "mark=int (input())\n",
    "if mark>=80:\n",
    "    print('A grade')\n",
    "elif mark>=60:\n",
    "    print('B grade')\n",
    "elif mark>=50:\n",
    "    print('C grade')\n",
    "elif mark>=45:\n",
    "    print('D grade')\n",
    "elif mark>=25:\n",
    "    print('E grade')\n",
    "else:\n",
    "    print('fail')"
   ]
  },
  {
   "cell_type": "code",
   "execution_count": null,
   "id": "daf20ce6",
   "metadata": {},
   "outputs": [],
   "source": []
  },
  {
   "cell_type": "markdown",
   "id": "f3b4e5dd",
   "metadata": {},
   "source": [
    "# TAKE INPUT OF USER OF AGES OF 3 PEOPLE AND CHECK WHO IS OLDEST "
   ]
  },
  {
   "cell_type": "markdown",
   "id": "0512ee1d",
   "metadata": {},
   "source": []
  },
  {
   "cell_type": "code",
   "execution_count": null,
   "id": "f442a13f",
   "metadata": {},
   "outputs": [],
   "source": [
    "dev=int(input('enter the age'))\n",
    "ram=int(input('enter the age'))\n",
    "sonu=int(input('enter the age'))\n",
    "if dev>ram:\n",
    "    print('dev is oldest')\n",
    "elif ram>sonu:\n",
    "    print('ram is oldest')\n",
    "else:\n",
    "    print('sonu is oldest')"
   ]
  },
  {
   "cell_type": "code",
   "execution_count": null,
   "id": "d9c27d1a",
   "metadata": {},
   "outputs": [],
   "source": []
  },
  {
   "cell_type": "markdown",
   "id": "b92018b9",
   "metadata": {},
   "source": [
    "# A STUDENT WILL NOT BE ALLOWED TO SIT IN EXAM IF HIS /HER ATTENDENCE IS LESS THAN 75% . "
   ]
  },
  {
   "cell_type": "markdown",
   "id": "e7001bcf",
   "metadata": {},
   "source": []
  },
  {
   "cell_type": "code",
   "execution_count": 5,
   "id": "b5065cc7",
   "metadata": {},
   "outputs": [
    {
     "name": "stdout",
     "output_type": "stream",
     "text": [
      "allowed\n"
     ]
    }
   ],
   "source": [
    "classes_held=int(input())\n",
    "classes_attended=int(input())\n",
    "attendence_percentage=classes_attended/classes_held*100\n",
    "if attendence_percentage>=75:\n",
    "    print('allowed')\n",
    "else:\n",
    "    print(\"not allowed\")"
   ]
  },
  {
   "cell_type": "code",
   "execution_count": null,
   "id": "968f8a4b",
   "metadata": {},
   "outputs": [],
   "source": []
  },
  {
   "cell_type": "code",
   "execution_count": null,
   "id": "6c1c0097",
   "metadata": {},
   "outputs": [],
   "source": []
  },
  {
   "cell_type": "code",
   "execution_count": null,
   "id": "1c3d659d",
   "metadata": {},
   "outputs": [],
   "source": []
  },
  {
   "cell_type": "code",
   "execution_count": null,
   "id": "15d6b559",
   "metadata": {},
   "outputs": [],
   "source": []
  }
 ],
 "metadata": {
  "kernelspec": {
   "display_name": "Python 3",
   "language": "python",
   "name": "python3"
  },
  "language_info": {
   "codemirror_mode": {
    "name": "ipython",
    "version": 3
   },
   "file_extension": ".py",
   "mimetype": "text/x-python",
   "name": "python",
   "nbconvert_exporter": "python",
   "pygments_lexer": "ipython3",
   "version": "3.11.9"
  }
 },
 "nbformat": 4,
 "nbformat_minor": 5
}
